{
 "cells": [
  {
   "cell_type": "markdown",
   "id": "7d252a8d",
   "metadata": {
    "id": "7d252a8d"
   },
   "source": [
    "# FAF.FIA16.1 -- Artificial Intelligence Fundamentals\n",
    "\n",
    "> **Lab 1:** Expert Systems \\\\\n",
    "> **Performed by:** Pasecinic Nichita, group FAF-192 \\\\\n",
    "> **Verified by:** Mihail Gavrilita, asist. univ.\n",
    "\n",
    "\n",
    "\n"
   ]
  },
  {
   "cell_type": "markdown",
   "id": "BPiGwyyGNsHh",
   "metadata": {
    "id": "BPiGwyyGNsHh"
   },
   "source": [
    "## Imports and Utils"
   ]
  },
  {
   "cell_type": "code",
   "execution_count": 6,
   "id": "533fd9fa",
   "metadata": {
    "ExecuteTime": {
     "end_time": "2022-01-23T09:47:05.838671Z",
     "start_time": "2022-01-23T09:47:05.834860Z"
    },
    "id": "533fd9fa"
   },
   "outputs": [],
   "source": [
    "from expert_system import expert_system\n",
    "from production import forward_chain, backward_chain, IF, OR, THEN, AND\n",
    "from tourist_rules import TOURIST_RULES"
   ]
  },
  {
   "cell_type": "markdown",
   "id": "7146ed9b",
   "metadata": {
    "id": "7146ed9b"
   },
   "source": [
    "## 1. Forward chaining for `TOURIST_RULES`"
   ]
  },
  {
   "cell_type": "code",
   "execution_count": 2,
   "id": "6531cedd",
   "metadata": {
    "ExecuteTime": {
     "end_time": "2022-01-23T09:47:15.094380Z",
     "start_time": "2022-01-23T09:47:15.090135Z"
    },
    "id": "6531cedd"
   },
   "outputs": [
    {
     "name": "stdout",
     "output_type": "stream",
     "text": [
      "Rule: IF(OR('(?x) rents cycling equipment', '(?x) spends time visiting museums/theatres'), THEN('(?x) has moderate budget'))\n",
      "Added: marta has moderate budget\n",
      "Rule: IF(AND('(?x) has moderate budget', '(?x) has an athletic build', '(?x) is interested in extreme sports'), THEN('(?x) is an Adventure tourist type :answer:'))\n",
      "Added: marta is an Adventure tourist type :answer:\n",
      "('marta has an athletic build', 'marta has moderate budget', 'marta is an Adventure tourist type :answer:', 'marta is interested in extreme sports', 'marta rents cycling equipment')\n"
     ]
    }
   ],
   "source": [
    "# goal tree in goal_tree.excalidraw.png\n",
    "TOURIST_DATA = (\n",
    "    'marta is interested in extreme sports',\n",
    "    'marta has an athletic build',\n",
    "    'marta rents cycling equipment',\n",
    "    # 'bob loves local cuisine',\n",
    "    # 'bob prefers public transport',\n",
    "    # 'bob knows city\\'s history and culture'\n",
    ")\n",
    "\n",
    "print(forward_chain(TOURIST_RULES, TOURIST_DATA, verbose=True))"
   ]
  },
  {
   "cell_type": "markdown",
   "id": "0938e3e4",
   "metadata": {
    "id": "0938e3e4"
   },
   "source": [
    "## 2. Backward chain example"
   ]
  },
  {
   "cell_type": "code",
   "execution_count": 7,
   "id": "6b0859a4",
   "metadata": {
    "id": "6b0859a4"
   },
   "outputs": [
    {
     "name": "stdout",
     "output_type": "stream",
     "text": [
      "OR('bob has x or y and z', AND(OR('bob has x or y', 'bob has x', 'bob has y'), 'bob has z'))\n"
     ]
    }
   ],
   "source": [
    "# implementation in production.py\n",
    "\n",
    "rules = (\n",
    "    IF(OR('(?x) has x', '(?x) has y'),\n",
    "       THEN('(?x) has x or y')),\n",
    "\n",
    "    IF(AND('(?x) has x or y',\n",
    "           '(?x) has z'),\n",
    "       THEN('(?x) has x or y and z'))\n",
    ")\n",
    "\n",
    "result = backward_chain(rules, 'bob has x or y and z')\n",
    "print(result)"
   ]
  },
  {
   "cell_type": "markdown",
   "id": "3f67a3d5",
   "metadata": {
    "id": "3f67a3d5"
   },
   "source": [
    "## 3. Expert system"
   ]
  },
  {
   "cell_type": "code",
   "execution_count": 8,
   "id": "046623ad",
   "metadata": {
    "id": "046623ad"
   },
   "outputs": [
    {
     "name": "stdout",
     "output_type": "stream",
     "text": [
      "Enter person name that system will inspect: Bob\n",
      "Select chaining type (b - backward, Enter - forward): b\n",
      "\n",
      "Please select a statement to check against: \n",
      "3 - Bob is an Adventure tourist type \n",
      "4 - Bob is an Cultural tourist type \n",
      "5 - Bob is an Luxury tourist type \n",
      "6 - Bob is an Business tourist type \n",
      "7 - Bob is an Backpacker tourist type \n",
      "8 - Bob is an Loonie \n",
      "answer: 3\n",
      "Condition tree for selected statement:  AND(OR('Bob has moderate budget', 'Bob rents cycling equipment', 'Bob spends time visiting museums/theatres'), 'Bob has an athletic build', 'Bob is interested in extreme sports')\n",
      "\n",
      "Statement: Bob has moderate budget. (answers: y/n): y\n",
      "update dataset:  ('Bob has moderate budget',)\n",
      "\n",
      "Statement: Bob rents cycling equipment. (answers: y/n): n\n",
      "update dataset:  ('Bob has moderate budget',)\n",
      "\n",
      "Statement: Bob spends time visiting museums/theatres. (answers: y/n): n\n",
      "update dataset:  ('Bob has moderate budget',)\n",
      "\n",
      "Statement: Bob has an athletic build. (answers: y/n): y\n",
      "update dataset:  ('Bob has moderate budget', 'Bob has an athletic build')\n",
      "\n",
      "Statement: Bob is interested in extreme sports. (answers: y/n): y\n",
      "update dataset:  ('Bob has moderate budget', 'Bob has an athletic build', 'Bob is interested in extreme sports')\n",
      "[RESULT] Selected statement was confirmed\n"
     ]
    }
   ],
   "source": [
    "# Implementation in expert_system.py\n",
    "\n",
    "# It generates questions based on TOURIST_RULES\n",
    "\n",
    "# If using with backward chaining type \n",
    "# 1. Aks user the statement to check against (hypothesis)\n",
    "# 2. Will generate questions based on backward_chaining tree output (ONLY yes/no type of questions)\n",
    "# 3. Prompt questions to confirm/infirm the initial statement\n",
    "\n",
    "# If using with forward chaining type \n",
    "# 1. Generate questions (yes/no and multiple-choice type of questions)\n",
    "# 2. Prompt questions and update answers dataset \n",
    "# 3. Run answers dataset thru forward_chain\n",
    "# 4. Lookup in forward_chain output to see if it generated a valid result (tourist type consequent)\n",
    "\n",
    "expert_system()"
   ]
  },
  {
   "cell_type": "markdown",
   "id": "0e29d59a",
   "metadata": {
    "id": "0e29d59a"
   },
   "source": [
    "## Conclusions:"
   ]
  },
  {
   "cell_type": "markdown",
   "id": "3cclcyPqeSFL",
   "metadata": {
    "id": "3cclcyPqeSFL"
   },
   "source": [
    "Interesting, but defining rules and goal trees is a pain"
   ]
  },
  {
   "cell_type": "markdown",
   "id": "rTJNie6deHsg",
   "metadata": {
    "id": "rTJNie6deHsg"
   },
   "source": [
    "## Bibliography:"
   ]
  },
  {
   "cell_type": "markdown",
   "id": "gUxrDWvseZie",
   "metadata": {
    "id": "gUxrDWvseZie"
   },
   "source": [
    "- https://ocw.mit.edu/courses/6-034-artificial-intelligence-fall-2010/video_galleries/lecture-videos/\n",
    "\n",
    "- https://ocw.mit.edu/courses/6-034-artificial-intelligence-fall-2010/resources/lecture-3-reasoning-goal-trees-and-rule-based-expert-systems/"
   ]
  }
 ],
 "metadata": {
  "colab": {
   "provenance": []
  },
  "kernelspec": {
   "display_name": "Python 3 (ipykernel)",
   "language": "python",
   "name": "python3"
  },
  "language_info": {
   "codemirror_mode": {
    "name": "ipython",
    "version": 3
   },
   "file_extension": ".py",
   "mimetype": "text/x-python",
   "name": "python",
   "nbconvert_exporter": "python",
   "pygments_lexer": "ipython3",
   "version": "3.10.8"
  },
  "toc": {
   "base_numbering": 1,
   "nav_menu": {},
   "number_sections": true,
   "sideBar": true,
   "skip_h1_title": false,
   "title_cell": "Table of Contents",
   "title_sidebar": "Contents",
   "toc_cell": false,
   "toc_position": {},
   "toc_section_display": true,
   "toc_window_display": false
  }
 },
 "nbformat": 4,
 "nbformat_minor": 5
}
