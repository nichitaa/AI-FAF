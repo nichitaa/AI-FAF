{
 "cells": [
  {
   "cell_type": "markdown",
   "id": "7d252a8d",
   "metadata": {
    "id": "7d252a8d"
   },
   "source": [
    "# FAF.FIA16.1 -- Artificial Intelligence Fundamentals\n",
    "\n",
    "> **Lab 1:** Expert Systems \\\\\n",
    "> **Performed by:** Pasecinic Nichita, group FAF-192 \\\\\n",
    "> **Verified by:** Mihail Gavrilita, asist. univ.\n",
    "\n",
    "\n",
    "\n"
   ]
  },
  {
   "cell_type": "markdown",
   "id": "BPiGwyyGNsHh",
   "metadata": {
    "id": "BPiGwyyGNsHh"
   },
   "source": [
    "## Imports and Utils"
   ]
  },
  {
   "cell_type": "code",
   "execution_count": 2,
   "id": "533fd9fa",
   "metadata": {
    "ExecuteTime": {
     "end_time": "2022-01-23T09:47:05.838671Z",
     "start_time": "2022-01-23T09:47:05.834860Z"
    },
    "id": "533fd9fa"
   },
   "outputs": [],
   "source": [
    "import random\n",
    "from tourist_rules import TOURIST_RULES\n",
    "from production import forward_chain, backward_chain, IF, THEN, AND, OR\n",
    "from expert_system import generate_questions, get_statements"
   ]
  },
  {
   "cell_type": "markdown",
   "id": "7146ed9b",
   "metadata": {
    "id": "7146ed9b"
   },
   "source": [
    "## 1. fw_chaining on defined tourist rules"
   ]
  },
  {
   "cell_type": "code",
   "execution_count": 3,
   "id": "6531cedd",
   "metadata": {
    "ExecuteTime": {
     "end_time": "2022-01-23T09:47:15.094380Z",
     "start_time": "2022-01-23T09:47:15.090135Z"
    },
    "id": "6531cedd"
   },
   "outputs": [
    {
     "name": "stdout",
     "output_type": "stream",
     "text": [
      "Rule: IF(OR('(?x) rents cycling equipment', '(?x) spends time visiting museums/theatres'), THEN('(?x) has moderate budget'))\n",
      "Added: marta has moderate budget\n",
      "Rule: IF(AND('(?x) has moderate budget', '(?x) has an athletic build', '(?x) is interested in extreme sports'), THEN('(?x) is an Adventure tourist type [answer]'))\n",
      "Added: marta is an Adventure tourist type [answer]\n",
      "('marta has an athletic build', 'marta has moderate budget', 'marta is an Adventure tourist type [answer]', 'marta is interested in extreme sports', 'marta rents cycling equipment')\n"
     ]
    }
   ],
   "source": [
    "# goal tree in goal_tree.excalidraw.png\n",
    "TOURIST_DATA = (\n",
    "    'marta is interested in extreme sports',\n",
    "    'marta has an athletic build',\n",
    "    'marta rents cycling equipment',\n",
    "    # 'bob loves local cuisine',\n",
    "    # 'bob prefers public transport',\n",
    "    # 'bob knows city\\'s history and culture'\n",
    ")\n",
    "\n",
    "print(forward_chain(TOURIST_RULES, TOURIST_DATA, verbose=True))"
   ]
  },
  {
   "cell_type": "markdown",
   "id": "0938e3e4",
   "metadata": {
    "id": "0938e3e4"
   },
   "source": [
    "## 2. backward_chain usage"
   ]
  },
  {
   "cell_type": "code",
   "execution_count": 4,
   "id": "6b0859a4",
   "metadata": {
    "id": "6b0859a4"
   },
   "outputs": [
    {
     "name": "stdout",
     "output_type": "stream",
     "text": [
      "OR('bob has x or y and z', AND(OR('bob has x or y', 'bob has x', 'bob has y'), 'bob has z'))\n"
     ]
    }
   ],
   "source": [
    "# implementation in production.py\n",
    "\n",
    "rules = (\n",
    "    IF(OR('(?x) has x', '(?x) has y'),\n",
    "       THEN('(?x) has x or y')),\n",
    "\n",
    "    IF(AND('(?x) has x or y',\n",
    "           '(?x) has z'),\n",
    "       THEN('(?x) has x or y and z'))\n",
    ")\n",
    "\n",
    "result = backward_chain(rules, 'bob has x or y and z')\n",
    "print(result)"
   ]
  },
  {
   "cell_type": "markdown",
   "id": "3f67a3d5",
   "metadata": {
    "id": "3f67a3d5"
   },
   "source": [
    "## 3. generating questions and datasets to find the tourist type"
   ]
  },
  {
   "cell_type": "code",
   "execution_count": 5,
   "id": "046623ad",
   "metadata": {
    "id": "046623ad"
   },
   "outputs": [
    {
     "name": "stdout",
     "output_type": "stream",
     "text": [
      "Enter person name that system will inspect: bob\n",
      "20\n",
      "\n",
      "Statement: bob prefers public transport. (answers: y/n): y\n",
      "statements to append:  ('bob prefers public transport',)\n",
      "new data set:  ('bob prefers public transport',)\n",
      "\n",
      "Statement: bob prefers public transport. (answers: y/n): y\n",
      "statements to append:  ('bob prefers public transport',)\n",
      "new data set:  ('bob prefers public transport', 'bob prefers public transport')\n",
      "\n",
      "Statement: bob spends time visiting museums/theatres. (answers: y/n): n\n",
      "statements to append:  None\n",
      "new data set:  ('bob prefers public transport', 'bob prefers public transport')\n",
      "\n",
      "Statement: bob is interested in exploring new destinations. (answers: y/n): n\n",
      "statements to append:  None\n",
      "new data set:  ('bob prefers public transport', 'bob prefers public transport')\n",
      "\n",
      "Select one or more options (e.g.: 1 6 2 or type Enter to skip): \n",
      "0 - bob has moderate budget\n",
      "1 - bob participates in local cultural events\n",
      "2 - bob is interested in local culture and history\n",
      "answer: \n",
      "statements to append:  ()\n",
      "new data set:  ('bob prefers public transport', 'bob prefers public transport')\n",
      "\n",
      "Statement: bob has a busy schedule. (answers: y/n): \n",
      "invalid answer (valid answers are yes or no)\n",
      "\n",
      "Statement: bob has a busy schedule. (answers: y/n): n\n",
      "statements to append:  None\n",
      "new data set:  ('bob prefers public transport', 'bob prefers public transport')\n",
      "\n",
      "Statement: bob has moderate budget. (answers: y/n): n\n",
      "statements to append:  None\n",
      "new data set:  ('bob prefers public transport', 'bob prefers public transport')\n",
      "\n",
      "Statement: bob is carrying belongings in a rucksack. (answers: y/n): n\n",
      "statements to append:  None\n",
      "new data set:  ('bob prefers public transport', 'bob prefers public transport')\n",
      "\n",
      "Statement: bob loves local cuisine. (answers: y/n): y\n",
      "statements to append:  ('bob loves local cuisine',)\n",
      "new data set:  ('bob prefers public transport', 'bob prefers public transport', 'bob loves local cuisine')\n",
      "\n",
      "Statement: bob is mostly attending conferences and meetings. (answers: y/n): n\n",
      "statements to append:  None\n",
      "new data set:  ('bob prefers public transport', 'bob prefers public transport', 'bob loves local cuisine')\n",
      "\n",
      "Statement: bob knows city's history and culture. (answers: y/n): y\n",
      "statements to append:  (\"bob knows city's history and culture\",)\n",
      "new data set:  ('bob prefers public transport', 'bob prefers public transport', 'bob loves local cuisine', \"bob knows city's history and culture\")\n",
      "bob is an Loonie \n"
     ]
    }
   ],
   "source": [
    "# expert_system.py\n",
    "\n",
    "verbose = True\n",
    "data_set = ()\n",
    "found = False\n",
    "name = input('Enter person name that system will inspect: ')\n",
    "questions = generate_questions(name, TOURIST_RULES)\n",
    "print(len(questions))\n",
    "while not found:\n",
    "    if len(questions) <= 0:\n",
    "        print('No more questions, extend the rules that defines a tourist type')\n",
    "        found = True\n",
    "    else:\n",
    "        question = random.choice(questions)\n",
    "        questions.remove(question)\n",
    "        statements = get_statements(question)\n",
    "        if statements is not None:\n",
    "            data_set += statements\n",
    "        forward_chain_result = forward_chain(TOURIST_RULES, data_set)\n",
    "\n",
    "        if verbose:\n",
    "            print('statements to append: ', statements)\n",
    "            print('new data set: ', data_set)\n",
    "        for statement in forward_chain_result:\n",
    "            if '[answer]' in statement:\n",
    "                print(statement.replace('[answer]', ''))\n",
    "                found = True\n"
   ]
  },
  {
   "cell_type": "markdown",
   "id": "0e29d59a",
   "metadata": {
    "id": "0e29d59a"
   },
   "source": [
    "## Conclusions:"
   ]
  },
  {
   "cell_type": "markdown",
   "id": "3cclcyPqeSFL",
   "metadata": {
    "id": "3cclcyPqeSFL"
   },
   "source": [
    "Interesting, but defining rules and goal trees is a pain"
   ]
  },
  {
   "cell_type": "markdown",
   "id": "rTJNie6deHsg",
   "metadata": {
    "id": "rTJNie6deHsg"
   },
   "source": [
    "## Bibliography:"
   ]
  },
  {
   "cell_type": "markdown",
   "id": "gUxrDWvseZie",
   "metadata": {
    "id": "gUxrDWvseZie"
   },
   "source": [
    "- https://ocw.mit.edu/courses/6-034-artificial-intelligence-fall-2010/video_galleries/lecture-videos/\n",
    "\n",
    "- https://ocw.mit.edu/courses/6-034-artificial-intelligence-fall-2010/resources/lecture-3-reasoning-goal-trees-and-rule-based-expert-systems/"
   ]
  }
 ],
 "metadata": {
  "colab": {
   "provenance": []
  },
  "kernelspec": {
   "display_name": "Python 3 (ipykernel)",
   "language": "python",
   "name": "python3"
  },
  "language_info": {
   "codemirror_mode": {
    "name": "ipython",
    "version": 3
   },
   "file_extension": ".py",
   "mimetype": "text/x-python",
   "name": "python",
   "nbconvert_exporter": "python",
   "pygments_lexer": "ipython3",
   "version": "3.10.8"
  },
  "toc": {
   "base_numbering": 1,
   "nav_menu": {},
   "number_sections": true,
   "sideBar": true,
   "skip_h1_title": false,
   "title_cell": "Table of Contents",
   "title_sidebar": "Contents",
   "toc_cell": false,
   "toc_position": {},
   "toc_section_display": true,
   "toc_window_display": false
  }
 },
 "nbformat": 4,
 "nbformat_minor": 5
}
