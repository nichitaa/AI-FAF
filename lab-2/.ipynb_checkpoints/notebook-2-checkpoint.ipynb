{
 "cells": [
  {
   "cell_type": "markdown",
   "id": "7d252a8d",
   "metadata": {
    "id": "7d252a8d"
   },
   "source": [
    "# FAF.FIA16.1 -- Artificial Intelligence Fundamentals\n",
    "\n",
    "> **Lab 2:** Flocking Behavior \\\\\n",
    "> **Performed by:** Pasecinic Nichita, group FAF-192 \\\\\n",
    "> **Verified by:** Mihail Gavrilita, asist. univ.\n",
    "\n",
    "\n",
    "\n"
   ]
  },
  {
   "cell_type": "markdown",
   "id": "BPiGwyyGNsHh",
   "metadata": {
    "id": "BPiGwyyGNsHh"
   },
   "source": [
    "## Run"
   ]
  },
  {
   "cell_type": "code",
   "execution_count": 2,
   "id": "533fd9fa",
   "metadata": {
    "ExecuteTime": {
     "end_time": "2022-01-23T09:47:05.838671Z",
     "start_time": "2022-01-23T09:47:05.834860Z"
    },
    "id": "533fd9fa"
   },
   "outputs": [],
   "source": [
    "# to run locally \n",
    "# execute in current directory: `py main.py`"
   ]
  },
  {
   "cell_type": "markdown",
   "id": "7146ed9b",
   "metadata": {
    "id": "7146ed9b"
   },
   "source": [
    "## 1. Vector utility methods"
   ]
  },
  {
   "cell_type": "code",
   "execution_count": 1,
   "id": "6531cedd",
   "metadata": {
    "ExecuteTime": {
     "end_time": "2022-01-23T09:47:15.094380Z",
     "start_time": "2022-01-23T09:47:15.090135Z"
    },
    "id": "6531cedd"
   },
   "outputs": [],
   "source": [
    "# In vector.py\n",
    "\n",
    "import math\n",
    "\n",
    "\n",
    "# 2D vector normalization\n",
    "def v_norm_2d(v):\n",
    "    return math.sqrt(v[0] ** 2 + v[1] ** 2)\n",
    "\n",
    "\n",
    "# 2D vectors addition\n",
    "def v_add_2d(v1, v2):\n",
    "    return [v1[0] + v2[0], v1[1] + v2[1]]\n",
    "\n",
    "\n",
    "# 2D vectors subtraction\n",
    "def v_sub_2d(v1, v2):\n",
    "    return [v1[0] - v2[0], v1[1] - v2[1]]\n",
    "\n",
    "\n",
    "# 2D vector multiply with a scalar\n",
    "def v_mult_2d(v, scalar):\n",
    "    return [v[0] * scalar, v[1] * scalar]\n",
    "\n",
    "\n",
    "# 2D vector division by a scalar\n",
    "def v_div_2d(v, scalar):\n",
    "    if scalar == 0:\n",
    "        return v\n",
    "    return [v[0] / scalar, v[1] / scalar]\n",
    "\n",
    "\n",
    "# 2D vectors dot product\n",
    "def v_dot_2d(v1, v2):\n",
    "    return v1[0] * v2[0] + v1[1] * v2[1]\n",
    "\n",
    "\n",
    "# Angle to vector\n",
    "def angle_to_vector(ang):\n",
    "    return [math.cos(ang), math.sin(ang)]\n",
    "\n",
    "\n",
    "# Distance between 2D vectors\n",
    "def v_dist_2d(v1, v2):\n",
    "    return math.sqrt((v1[0] - v2[0]) ** 2 + (v1[1] - v2[1]) ** 2)\n"
   ]
  },
  {
   "cell_type": "markdown",
   "id": "0938e3e4",
   "metadata": {
    "id": "0938e3e4"
   },
   "source": [
    "## 2. Steering behaviours"
   ]
  },
  {
   "cell_type": "code",
   "execution_count": 3,
   "id": "6b0859a4",
   "metadata": {
    "id": "6b0859a4"
   },
   "outputs": [],
   "source": [
    "# Reference: https://betterprogramming.pub/boids-simulating-birds-flock-behavior-in-python-9fff99375118\n",
    "# Follow average direction of local rocks\n",
    "def align(self, rocks):\n",
    "    steering = [0, 0]\n",
    "    total = 0\n",
    "    avg_vector = [0, 0]\n",
    "    for rock in rocks:\n",
    "        # if in visible distance\n",
    "        distance = v_dist_2d(rock.pos, self.pos)\n",
    "        if distance < rock_perception_distance:\n",
    "            avg_vector = v_add_2d(avg_vector, rock.vel)\n",
    "            total += 1\n",
    "    if total > 0:\n",
    "        avg_vector = v_div_2d(avg_vector, total)\n",
    "        avg_vector = v_mult_2d(v_div_2d(avg_vector, v_norm_2d(avg_vector)), 3)\n",
    "        steering = v_sub_2d(avg_vector, self.vel)\n",
    "    return steering\n",
    "\n",
    "def separation(self, rocks):\n",
    "    steering = [0, 0]\n",
    "    total = 0\n",
    "    avg_vector = [0, 0]\n",
    "    for rock in rocks:\n",
    "        distance = v_dist_2d(rock.pos, self.pos)\n",
    "        if self.pos != rock.pos and distance < rock_perception_distance:\n",
    "            diff = v_sub_2d(self.pos, rock.pos)\n",
    "            diff = v_div_2d(diff, distance)\n",
    "            avg_vector = v_add_2d(avg_vector, diff)\n",
    "            total += 1\n",
    "    if total > 0:\n",
    "        avg_vector = v_div_2d(avg_vector, total)\n",
    "        if v_norm_2d(steering) > 0:\n",
    "            avg_vector = v_mult_2d(v_div_2d(avg_vector, v_norm_2d(steering)), 2)\n",
    "        steering = v_sub_2d(avg_vector, self.vel)\n",
    "        if v_norm_2d(steering) > 2:\n",
    "            steering = v_mult_2d(v_div_2d(steering, v_norm_2d(steering)), 2.5)\n",
    "    return steering\n",
    "\n",
    "# Steering towards the center of mass of local flock mates\n",
    "def cohesion(self, rocks):\n",
    "    steering = [0, 0]\n",
    "    total = 0\n",
    "    center_of_mass = [0, 0]\n",
    "    for rock in rocks:\n",
    "        distance = v_dist_2d(rock.pos, self.pos)\n",
    "        if self.pos != rock.pos and distance < rock_perception_distance:\n",
    "            center_of_mass = v_add_2d(center_of_mass, rock.pos)\n",
    "            total += 1\n",
    "\n",
    "    if total > 0:\n",
    "        center_of_mass = v_div_2d(center_of_mass, total)\n",
    "        # vector to found center of mass\n",
    "        vec_to_com = v_sub_2d(center_of_mass, self.pos)\n",
    "        if v_norm_2d(vec_to_com) > 0:\n",
    "            vec_to_com = v_mult_2d((v_div_2d(vec_to_com, v_norm_2d(vec_to_com))), 0.5)\n",
    "        steering = v_sub_2d(vec_to_com, self.vel)\n",
    "        if v_norm_2d(steering) > 2:\n",
    "            steering = v_mult_2d((v_div_2d(steering, v_norm_2d(steering))), 0.5)\n",
    "    return steering"
   ]
  },
  {
   "cell_type": "markdown",
   "id": "rTJNie6deHsg",
   "metadata": {
    "id": "rTJNie6deHsg"
   },
   "source": [
    "## Bibliography:"
   ]
  },
  {
   "cell_type": "markdown",
   "id": "gUxrDWvseZie",
   "metadata": {
    "id": "gUxrDWvseZie"
   },
   "source": [
    "- Big thanks to this guide: https://betterprogramming.pub/boids-simulating-birds-flock-behavior-in-python-9fff99375118"
   ]
  }
 ],
 "metadata": {
  "colab": {
   "provenance": []
  },
  "kernelspec": {
   "display_name": "Python 3 (ipykernel)",
   "language": "python",
   "name": "python3"
  },
  "language_info": {
   "codemirror_mode": {
    "name": "ipython",
    "version": 3
   },
   "file_extension": ".py",
   "mimetype": "text/x-python",
   "name": "python",
   "nbconvert_exporter": "python",
   "pygments_lexer": "ipython3",
   "version": "3.10.8"
  },
  "toc": {
   "base_numbering": 1,
   "nav_menu": {},
   "number_sections": true,
   "sideBar": true,
   "skip_h1_title": false,
   "title_cell": "Table of Contents",
   "title_sidebar": "Contents",
   "toc_cell": false,
   "toc_position": {},
   "toc_section_display": true,
   "toc_window_display": false
  }
 },
 "nbformat": 4,
 "nbformat_minor": 5
}
